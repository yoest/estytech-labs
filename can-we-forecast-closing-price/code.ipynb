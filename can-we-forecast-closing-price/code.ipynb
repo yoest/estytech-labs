{
 "cells": [
  {
   "cell_type": "code",
   "execution_count": 79,
   "metadata": {},
   "outputs": [],
   "source": [
    "import json\n",
    "import os\n",
    "import pandas as pd\n",
    "import numpy as np\n",
    "import matplotlib.pyplot as plt\n",
    "import pandas as pd\n",
    "import numpy as np\n",
    "from sklearn.model_selection import train_test_split\n",
    "from sklearn.metrics import mean_squared_error, mean_absolute_error\n",
    "from sklearn.linear_model import LinearRegression\n",
    "from sklearn.ensemble import RandomForestRegressor\n",
    "from sklearn.preprocessing import StandardScaler\n",
    "from torch.utils.data import Dataset, DataLoader\n",
    "import torch\n",
    "from torch import nn, optim\n",
    "from torch.utils.data import Dataset, DataLoader\n",
    "from typing import List\n",
    "from tqdm import tqdm\n",
    "from collections import defaultdict"
   ]
  },
  {
   "cell_type": "markdown",
   "metadata": {},
   "source": [
    "# Can We Forecast the Stock Market Using Only Closing Prices?"
   ]
  },
  {
   "cell_type": "markdown",
   "metadata": {},
   "source": [
    "Stock price data is everywhere online, meaning opening, closing, high, low, volume, and a bunch of indicators based on them. It’s free and easy to get. On the other hand, other types of data that could be useful for forecasting, like financial statements or market sentiment, are often harder to find, and can be really (sometimes really) expensive."
   ]
  },
  {
   "cell_type": "markdown",
   "metadata": {},
   "source": [
    "Because of that, a lot of people have tried to predict the stock market using just price data, especially the closing price. You can find plenty of articles showing models that seem to do a good job, with predicted prices that look very close to the actual ones. But in many cases, these articles don’t include proper evaluation, even basic metrics like MAE or MSE are often missing."
   ]
  },
  {
   "cell_type": "markdown",
   "metadata": {},
   "source": [
    "So that got me thinking: Can we actually forecast stock prices using only past prices? In this article, I’ll try to answer that by testing some of the popular models floating around online and evaluating them using a simple (but honest) approach."
   ]
  },
  {
   "cell_type": "markdown",
   "metadata": {},
   "source": [
    "If you’re curious or want to dig into the details, everything’s available on [Github](https://github.com/yoest/estytech-labs/blob/master/can-we-forecast-closing-price/code.ipynb). I didn’t include the import statements here to keep things clean, but you’ll find all the code, data, and setup over there."
   ]
  },
  {
   "cell_type": "markdown",
   "metadata": {},
   "source": [
    "## What data am I using?"
   ]
  },
  {
   "cell_type": "markdown",
   "metadata": {},
   "source": [
    "Stock price data is easy to find online, so feel free to use whatever source you prefer. For this article, I’m using a dataset I’ve already parsed and cleaned. It includes 17,610 rows of data from 10 well-known companies, covering the period from January 1, 2018 to January 1, 2025."
   ]
  },
  {
   "cell_type": "code",
   "execution_count": 80,
   "metadata": {},
   "outputs": [
    {
     "data": {
      "text/html": [
       "<div>\n",
       "<style scoped>\n",
       "    .dataframe tbody tr th:only-of-type {\n",
       "        vertical-align: middle;\n",
       "    }\n",
       "\n",
       "    .dataframe tbody tr th {\n",
       "        vertical-align: top;\n",
       "    }\n",
       "\n",
       "    .dataframe thead th {\n",
       "        text-align: right;\n",
       "    }\n",
       "</style>\n",
       "<table border=\"1\" class=\"dataframe\">\n",
       "  <thead>\n",
       "    <tr style=\"text-align: right;\">\n",
       "      <th></th>\n",
       "      <th>symbol</th>\n",
       "      <th>date</th>\n",
       "      <th>close</th>\n",
       "    </tr>\n",
       "  </thead>\n",
       "  <tbody>\n",
       "    <tr>\n",
       "      <th>0</th>\n",
       "      <td>AAPL</td>\n",
       "      <td>2024-12-31</td>\n",
       "      <td>250.42</td>\n",
       "    </tr>\n",
       "    <tr>\n",
       "      <th>1</th>\n",
       "      <td>AAPL</td>\n",
       "      <td>2024-12-30</td>\n",
       "      <td>252.20</td>\n",
       "    </tr>\n",
       "    <tr>\n",
       "      <th>2</th>\n",
       "      <td>AAPL</td>\n",
       "      <td>2024-12-27</td>\n",
       "      <td>255.59</td>\n",
       "    </tr>\n",
       "    <tr>\n",
       "      <th>3</th>\n",
       "      <td>AAPL</td>\n",
       "      <td>2024-12-26</td>\n",
       "      <td>259.02</td>\n",
       "    </tr>\n",
       "    <tr>\n",
       "      <th>4</th>\n",
       "      <td>AAPL</td>\n",
       "      <td>2024-12-24</td>\n",
       "      <td>258.20</td>\n",
       "    </tr>\n",
       "  </tbody>\n",
       "</table>\n",
       "</div>"
      ],
      "text/plain": [
       "  symbol        date   close\n",
       "0   AAPL  2024-12-31  250.42\n",
       "1   AAPL  2024-12-30  252.20\n",
       "2   AAPL  2024-12-27  255.59\n",
       "3   AAPL  2024-12-26  259.02\n",
       "4   AAPL  2024-12-24  258.20"
      ]
     },
     "execution_count": 80,
     "metadata": {},
     "output_type": "execute_result"
    }
   ],
   "source": [
    "df = pd.read_csv('data.csv', index_col=0)\n",
    "df.head()"
   ]
  },
  {
   "cell_type": "markdown",
   "metadata": {},
   "source": [
    "I’m framing this as a time series problem, where the input (X) is just the past closing prices, and the target is the return over the next x days. Why use return instead of the price itself? Mainly because prices can vary a lot between companies: a $10 stock and a $1,000 stock behave very differently in raw numbers. Using returns helps normalize things across the board."
   ]
  },
  {
   "cell_type": "markdown",
   "metadata": {},
   "source": [
    "Here’s the code I used to create the time series data:"
   ]
  },
  {
   "cell_type": "code",
   "execution_count": 81,
   "metadata": {},
   "outputs": [],
   "source": [
    "def prepare_supervised_return_data(df: pd.DataFrame, window_size: int = 60, forecast_horizon: int = 10):\n",
    "    df = df.copy()\n",
    "    df.sort_values(by=['symbol', 'date'], inplace=True)  # Make sure data is sorted chronologically by stock\n",
    "\n",
    "    output = []\n",
    "\n",
    "    # Loop over each unique stock symbol\n",
    "    for symbol in df['symbol'].unique():\n",
    "        stock_df = df[df['symbol'] == symbol].reset_index(drop=True)\n",
    "\n",
    "        # Loop over the time series, leaving space at the beginning for the window, and at the end for the forecast horizon\n",
    "        for i in range(window_size, len(stock_df) - forecast_horizon):\n",
    "            row = {\n",
    "                'symbol': symbol,\n",
    "                'date': stock_df.loc[i, 'date'],\n",
    "                'price': stock_df.loc[i, 'close']\n",
    "            }\n",
    "\n",
    "            # Extract the past `window_size` closing prices as input\n",
    "            input_seq = stock_df.loc[i - window_size:i - 1, 'close'].values\n",
    "\n",
    "            # Standardize the input sequence (zero mean, unit variance)\n",
    "            input_seq = (input_seq - np.mean(input_seq)) / np.std(input_seq)\n",
    "\n",
    "            if np.isnan(input_seq).any():\n",
    "                continue  # Skip this row if normalization produced NaNs\n",
    "\n",
    "            # Add each normalized return as a feature\n",
    "            for j in range(window_size):\n",
    "                row[f'ret_t-{window_size - j}'] = input_seq[j]\n",
    "\n",
    "            # Compute the return over the next `forecast_horizon` days as the target\n",
    "            target_price = stock_df.loc[i + forecast_horizon, 'close']\n",
    "            current_price = stock_df.loc[i, 'close']\n",
    "            target = (target_price - current_price) / current_price\n",
    "\n",
    "            if pd.isna(target):\n",
    "                continue  # Skip if target is NaN\n",
    "\n",
    "            row['target'] = target\n",
    "\n",
    "            output.append(row)\n",
    "\n",
    "    # Create a final DataFrame with all time series samples\n",
    "    res_df = pd.DataFrame(output)\n",
    "    res_df.sort_values(by=['date'], inplace=True)\n",
    "    return res_df.reset_index(drop=True)"
   ]
  },
  {
   "cell_type": "markdown",
   "metadata": {},
   "source": [
    "As you can see, the standardization is done within each input sequence. This helps address the issue I mentioned earlier about different price scales across companies. Feel free to experiment with the parameters if you’d like. This setup is meant to be a simple, solid starting point."
   ]
  },
  {
   "cell_type": "markdown",
   "metadata": {},
   "source": [
    "I chose a 10-day forecast horizon because it strikes a nice balance: it’s not so short that the prediction is trivial, but not so long that it becomes unrealistic either."
   ]
  },
  {
   "cell_type": "code",
   "execution_count": 82,
   "metadata": {},
   "outputs": [
    {
     "data": {
      "text/html": [
       "<div>\n",
       "<style scoped>\n",
       "    .dataframe tbody tr th:only-of-type {\n",
       "        vertical-align: middle;\n",
       "    }\n",
       "\n",
       "    .dataframe tbody tr th {\n",
       "        vertical-align: top;\n",
       "    }\n",
       "\n",
       "    .dataframe thead th {\n",
       "        text-align: right;\n",
       "    }\n",
       "</style>\n",
       "<table border=\"1\" class=\"dataframe\">\n",
       "  <thead>\n",
       "    <tr style=\"text-align: right;\">\n",
       "      <th></th>\n",
       "      <th>symbol</th>\n",
       "      <th>date</th>\n",
       "      <th>price</th>\n",
       "      <th>ret_t-60</th>\n",
       "      <th>ret_t-59</th>\n",
       "      <th>ret_t-58</th>\n",
       "      <th>ret_t-57</th>\n",
       "      <th>ret_t-56</th>\n",
       "      <th>ret_t-55</th>\n",
       "      <th>ret_t-54</th>\n",
       "      <th>...</th>\n",
       "      <th>ret_t-9</th>\n",
       "      <th>ret_t-8</th>\n",
       "      <th>ret_t-7</th>\n",
       "      <th>ret_t-6</th>\n",
       "      <th>ret_t-5</th>\n",
       "      <th>ret_t-4</th>\n",
       "      <th>ret_t-3</th>\n",
       "      <th>ret_t-2</th>\n",
       "      <th>ret_t-1</th>\n",
       "      <th>target</th>\n",
       "    </tr>\n",
       "  </thead>\n",
       "  <tbody>\n",
       "    <tr>\n",
       "      <th>0</th>\n",
       "      <td>AAPL</td>\n",
       "      <td>2018-03-29</td>\n",
       "      <td>167.78</td>\n",
       "      <td>-0.000768</td>\n",
       "      <td>-0.005535</td>\n",
       "      <td>0.121584</td>\n",
       "      <td>0.434614</td>\n",
       "      <td>0.331330</td>\n",
       "      <td>0.328152</td>\n",
       "      <td>0.321796</td>\n",
       "      <td>...</td>\n",
       "      <td>0.914487</td>\n",
       "      <td>0.482283</td>\n",
       "      <td>0.472749</td>\n",
       "      <td>-0.158077</td>\n",
       "      <td>-0.542612</td>\n",
       "      <td>-1.163904</td>\n",
       "      <td>0.080270</td>\n",
       "      <td>-0.623650</td>\n",
       "      <td>-0.919201</td>\n",
       "      <td>0.041423</td>\n",
       "    </tr>\n",
       "    <tr>\n",
       "      <th>1</th>\n",
       "      <td>BABA</td>\n",
       "      <td>2018-03-29</td>\n",
       "      <td>183.54</td>\n",
       "      <td>-0.681289</td>\n",
       "      <td>-0.630759</td>\n",
       "      <td>-0.383884</td>\n",
       "      <td>0.336530</td>\n",
       "      <td>0.283113</td>\n",
       "      <td>0.350967</td>\n",
       "      <td>0.205152</td>\n",
       "      <td>...</td>\n",
       "      <td>1.719610</td>\n",
       "      <td>0.889473</td>\n",
       "      <td>1.527595</td>\n",
       "      <td>1.000639</td>\n",
       "      <td>-0.536918</td>\n",
       "      <td>-1.035000</td>\n",
       "      <td>0.307656</td>\n",
       "      <td>-0.935383</td>\n",
       "      <td>-1.365610</td>\n",
       "      <td>-0.062657</td>\n",
       "    </tr>\n",
       "    <tr>\n",
       "      <th>2</th>\n",
       "      <td>MSFT</td>\n",
       "      <td>2018-03-29</td>\n",
       "      <td>91.27</td>\n",
       "      <td>-1.998742</td>\n",
       "      <td>-1.853458</td>\n",
       "      <td>-1.577419</td>\n",
       "      <td>-1.185153</td>\n",
       "      <td>-1.152464</td>\n",
       "      <td>-1.174256</td>\n",
       "      <td>-1.319540</td>\n",
       "      <td>...</td>\n",
       "      <td>1.143020</td>\n",
       "      <td>0.521932</td>\n",
       "      <td>0.609102</td>\n",
       "      <td>0.373016</td>\n",
       "      <td>-0.604017</td>\n",
       "      <td>-1.551994</td>\n",
       "      <td>0.845189</td>\n",
       "      <td>-0.720245</td>\n",
       "      <td>-0.749301</td>\n",
       "      <td>0.019831</td>\n",
       "    </tr>\n",
       "    <tr>\n",
       "      <th>3</th>\n",
       "      <td>NFLX</td>\n",
       "      <td>2018-03-29</td>\n",
       "      <td>295.35</td>\n",
       "      <td>-1.848054</td>\n",
       "      <td>-1.744110</td>\n",
       "      <td>-1.728963</td>\n",
       "      <td>-1.615096</td>\n",
       "      <td>-1.561296</td>\n",
       "      <td>-1.632855</td>\n",
       "      <td>-1.549021</td>\n",
       "      <td>...</td>\n",
       "      <td>1.217483</td>\n",
       "      <td>1.087685</td>\n",
       "      <td>1.192673</td>\n",
       "      <td>1.166034</td>\n",
       "      <td>0.910616</td>\n",
       "      <td>0.760186</td>\n",
       "      <td>1.267104</td>\n",
       "      <td>0.753657</td>\n",
       "      <td>0.364001</td>\n",
       "      <td>0.055189</td>\n",
       "    </tr>\n",
       "    <tr>\n",
       "      <th>4</th>\n",
       "      <td>AMZN</td>\n",
       "      <td>2018-03-29</td>\n",
       "      <td>1447.34</td>\n",
       "      <td>-2.105777</td>\n",
       "      <td>-1.972996</td>\n",
       "      <td>-1.925880</td>\n",
       "      <td>-1.754987</td>\n",
       "      <td>-1.600003</td>\n",
       "      <td>-1.549040</td>\n",
       "      <td>-1.534792</td>\n",
       "      <td>...</td>\n",
       "      <td>1.239273</td>\n",
       "      <td>1.005443</td>\n",
       "      <td>1.368908</td>\n",
       "      <td>1.328260</td>\n",
       "      <td>1.005355</td>\n",
       "      <td>0.573882</td>\n",
       "      <td>1.100985</td>\n",
       "      <td>0.586907</td>\n",
       "      <td>0.013213</td>\n",
       "      <td>-0.011435</td>\n",
       "    </tr>\n",
       "    <tr>\n",
       "      <th>5</th>\n",
       "      <td>NVDA</td>\n",
       "      <td>2018-03-29</td>\n",
       "      <td>231.59</td>\n",
       "      <td>-3.036258</td>\n",
       "      <td>-1.919891</td>\n",
       "      <td>-1.824591</td>\n",
       "      <td>-1.670580</td>\n",
       "      <td>-1.108993</td>\n",
       "      <td>-1.114098</td>\n",
       "      <td>-0.966043</td>\n",
       "      <td>...</td>\n",
       "      <td>1.314341</td>\n",
       "      <td>0.507698</td>\n",
       "      <td>1.237761</td>\n",
       "      <td>1.150970</td>\n",
       "      <td>0.580023</td>\n",
       "      <td>-0.175567</td>\n",
       "      <td>0.803807</td>\n",
       "      <td>-0.809480</td>\n",
       "      <td>-1.164301</td>\n",
       "      <td>-0.000389</td>\n",
       "    </tr>\n",
       "    <tr>\n",
       "      <th>6</th>\n",
       "      <td>ORCL</td>\n",
       "      <td>2018-03-29</td>\n",
       "      <td>45.75</td>\n",
       "      <td>-1.528048</td>\n",
       "      <td>-1.004173</td>\n",
       "      <td>-0.776191</td>\n",
       "      <td>-0.635521</td>\n",
       "      <td>-0.388136</td>\n",
       "      <td>-0.349330</td>\n",
       "      <td>-0.475448</td>\n",
       "      <td>...</td>\n",
       "      <td>1.207741</td>\n",
       "      <td>1.052519</td>\n",
       "      <td>-1.324319</td>\n",
       "      <td>-1.338871</td>\n",
       "      <td>-1.886999</td>\n",
       "      <td>-2.420575</td>\n",
       "      <td>-1.600808</td>\n",
       "      <td>-2.134384</td>\n",
       "      <td>-2.328411</td>\n",
       "      <td>0.007213</td>\n",
       "    </tr>\n",
       "    <tr>\n",
       "      <th>7</th>\n",
       "      <td>AMD</td>\n",
       "      <td>2018-03-29</td>\n",
       "      <td>10.05</td>\n",
       "      <td>-1.254891</td>\n",
       "      <td>-0.466695</td>\n",
       "      <td>0.321501</td>\n",
       "      <td>-0.010371</td>\n",
       "      <td>0.542749</td>\n",
       "      <td>-0.093339</td>\n",
       "      <td>0.100253</td>\n",
       "      <td>...</td>\n",
       "      <td>-0.577319</td>\n",
       "      <td>-0.632631</td>\n",
       "      <td>-1.075127</td>\n",
       "      <td>-0.867707</td>\n",
       "      <td>-1.351687</td>\n",
       "      <td>-1.738871</td>\n",
       "      <td>-2.001603</td>\n",
       "      <td>-2.610035</td>\n",
       "      <td>-2.872767</td>\n",
       "      <td>-0.011940</td>\n",
       "    </tr>\n",
       "    <tr>\n",
       "      <th>8</th>\n",
       "      <td>TSLA</td>\n",
       "      <td>2018-03-29</td>\n",
       "      <td>266.13</td>\n",
       "      <td>-0.580780</td>\n",
       "      <td>-0.762859</td>\n",
       "      <td>-0.908856</td>\n",
       "      <td>-0.800052</td>\n",
       "      <td>0.300750</td>\n",
       "      <td>0.149757</td>\n",
       "      <td>0.211376</td>\n",
       "      <td>...</td>\n",
       "      <td>-0.535260</td>\n",
       "      <td>-0.967699</td>\n",
       "      <td>-1.134790</td>\n",
       "      <td>-0.802828</td>\n",
       "      <td>-1.215282</td>\n",
       "      <td>-1.634953</td>\n",
       "      <td>-1.488401</td>\n",
       "      <td>-2.876200</td>\n",
       "      <td>-4.064157</td>\n",
       "      <td>0.128546</td>\n",
       "    </tr>\n",
       "    <tr>\n",
       "      <th>9</th>\n",
       "      <td>GOOGL</td>\n",
       "      <td>2018-03-29</td>\n",
       "      <td>1037.14</td>\n",
       "      <td>-0.800110</td>\n",
       "      <td>-0.402805</td>\n",
       "      <td>-0.310802</td>\n",
       "      <td>0.004481</td>\n",
       "      <td>0.089540</td>\n",
       "      <td>0.058728</td>\n",
       "      <td>0.001226</td>\n",
       "      <td>...</td>\n",
       "      <td>0.528072</td>\n",
       "      <td>-0.217281</td>\n",
       "      <td>-0.309934</td>\n",
       "      <td>-0.348992</td>\n",
       "      <td>-1.235387</td>\n",
       "      <td>-1.812574</td>\n",
       "      <td>-1.214990</td>\n",
       "      <td>-2.238087</td>\n",
       "      <td>-2.276277</td>\n",
       "      <td>-0.001061</td>\n",
       "    </tr>\n",
       "  </tbody>\n",
       "</table>\n",
       "<p>10 rows × 64 columns</p>\n",
       "</div>"
      ],
      "text/plain": [
       "  symbol        date    price  ret_t-60  ret_t-59  ret_t-58  ret_t-57   \n",
       "0   AAPL  2018-03-29   167.78 -0.000768 -0.005535  0.121584  0.434614  \\\n",
       "1   BABA  2018-03-29   183.54 -0.681289 -0.630759 -0.383884  0.336530   \n",
       "2   MSFT  2018-03-29    91.27 -1.998742 -1.853458 -1.577419 -1.185153   \n",
       "3   NFLX  2018-03-29   295.35 -1.848054 -1.744110 -1.728963 -1.615096   \n",
       "4   AMZN  2018-03-29  1447.34 -2.105777 -1.972996 -1.925880 -1.754987   \n",
       "5   NVDA  2018-03-29   231.59 -3.036258 -1.919891 -1.824591 -1.670580   \n",
       "6   ORCL  2018-03-29    45.75 -1.528048 -1.004173 -0.776191 -0.635521   \n",
       "7    AMD  2018-03-29    10.05 -1.254891 -0.466695  0.321501 -0.010371   \n",
       "8   TSLA  2018-03-29   266.13 -0.580780 -0.762859 -0.908856 -0.800052   \n",
       "9  GOOGL  2018-03-29  1037.14 -0.800110 -0.402805 -0.310802  0.004481   \n",
       "\n",
       "   ret_t-56  ret_t-55  ret_t-54  ...   ret_t-9   ret_t-8   ret_t-7   ret_t-6   \n",
       "0  0.331330  0.328152  0.321796  ...  0.914487  0.482283  0.472749 -0.158077  \\\n",
       "1  0.283113  0.350967  0.205152  ...  1.719610  0.889473  1.527595  1.000639   \n",
       "2 -1.152464 -1.174256 -1.319540  ...  1.143020  0.521932  0.609102  0.373016   \n",
       "3 -1.561296 -1.632855 -1.549021  ...  1.217483  1.087685  1.192673  1.166034   \n",
       "4 -1.600003 -1.549040 -1.534792  ...  1.239273  1.005443  1.368908  1.328260   \n",
       "5 -1.108993 -1.114098 -0.966043  ...  1.314341  0.507698  1.237761  1.150970   \n",
       "6 -0.388136 -0.349330 -0.475448  ...  1.207741  1.052519 -1.324319 -1.338871   \n",
       "7  0.542749 -0.093339  0.100253  ... -0.577319 -0.632631 -1.075127 -0.867707   \n",
       "8  0.300750  0.149757  0.211376  ... -0.535260 -0.967699 -1.134790 -0.802828   \n",
       "9  0.089540  0.058728  0.001226  ...  0.528072 -0.217281 -0.309934 -0.348992   \n",
       "\n",
       "    ret_t-5   ret_t-4   ret_t-3   ret_t-2   ret_t-1    target  \n",
       "0 -0.542612 -1.163904  0.080270 -0.623650 -0.919201  0.041423  \n",
       "1 -0.536918 -1.035000  0.307656 -0.935383 -1.365610 -0.062657  \n",
       "2 -0.604017 -1.551994  0.845189 -0.720245 -0.749301  0.019831  \n",
       "3  0.910616  0.760186  1.267104  0.753657  0.364001  0.055189  \n",
       "4  1.005355  0.573882  1.100985  0.586907  0.013213 -0.011435  \n",
       "5  0.580023 -0.175567  0.803807 -0.809480 -1.164301 -0.000389  \n",
       "6 -1.886999 -2.420575 -1.600808 -2.134384 -2.328411  0.007213  \n",
       "7 -1.351687 -1.738871 -2.001603 -2.610035 -2.872767 -0.011940  \n",
       "8 -1.215282 -1.634953 -1.488401 -2.876200 -4.064157  0.128546  \n",
       "9 -1.235387 -1.812574 -1.214990 -2.238087 -2.276277 -0.001061  \n",
       "\n",
       "[10 rows x 64 columns]"
      ]
     },
     "execution_count": 82,
     "metadata": {},
     "output_type": "execute_result"
    }
   ],
   "source": [
    "sup_df = prepare_supervised_return_data(df)\n",
    "sup_df.head(10)"
   ]
  },
  {
   "cell_type": "markdown",
   "metadata": {},
   "source": [
    "The last step is to split our features (X) and targets (y) into the usual datasets: training, validation, and test."
   ]
  },
  {
   "cell_type": "code",
   "execution_count": 83,
   "metadata": {},
   "outputs": [],
   "source": [
    "# Define feature columns (lagged returns)\n",
    "ret_cols = [col for col in sup_df.columns if col.startswith('ret_t')]\n",
    "X = sup_df[ret_cols].values\n",
    "y = sup_df['target'].values\n",
    "\n",
    "# Train/val/test split (time-based)\n",
    "n = len(sup_df)\n",
    "train_size = int(0.7 * n)\n",
    "val_size = int(0.15 * n)\n",
    "\n",
    "X_train, y_train = X[:train_size], y[:train_size]\n",
    "X_val, y_val = X[train_size:train_size+val_size], y[train_size:train_size+val_size]\n",
    "X_test, y_test = X[train_size+val_size:], y[train_size+val_size:]"
   ]
  },
  {
   "cell_type": "markdown",
   "metadata": {},
   "source": [
    "## Does the data need standardization?\n",
    "\n",
    "We already standardize each input sequence to handle the price scale differences I mentioned earlier. But what about standardizing the data across sequences, is that necessary too? We can check this easily by plotting the mean and variance before and after scaling, like this:"
   ]
  },
  {
   "cell_type": "code",
   "execution_count": 84,
   "metadata": {},
   "outputs": [],
   "source": [
    "scaler = StandardScaler()\n",
    "\n",
    "X_train_scaled = scaler.fit_transform(X_train)\n",
    "X_val_scaled = scaler.transform(X_val)\n",
    "X_test_scaled = scaler.transform(X_test)"
   ]
  },
  {
   "cell_type": "code",
   "execution_count": 85,
   "metadata": {},
   "outputs": [
    {
     "data": {
      "image/png": "[encoded data removed]",
      "text/plain": [
       "<Figure size 700x200 with 2 Axes>"
      ]
     },
     "metadata": {},
     "output_type": "display_data"
    }
   ],
   "source": [
    "def plot_boxplot(ax, data: dict, title: str, color: str = 'tab:blue'):\n",
    "    # Draw a horizontal dashed line at 0 for reference\n",
    "    ax.axhline(0, color='black', linestyle='--', alpha=0.2)\n",
    "    \n",
    "    # Create a boxplot for the given data (dictionary of arrays)\n",
    "    boxplot = ax.boxplot(data.values(), patch_artist=True, showmeans=False, showfliers=False)\n",
    "    \n",
    "    # Set the color of each box to blue and the median line color to black for visibility\n",
    "    for patch, color in zip(boxplot['boxes'], [color] * 3):\n",
    "        patch.set_facecolor(color)\n",
    "    for median in boxplot['medians']:\n",
    "        median.set(color='black')\n",
    "    \n",
    "    ax.set_xticklabels(data.keys())\n",
    "    ax.set_title(title)\n",
    "\n",
    "fig, axs = plt.subplots(1, 2, figsize=(7, 2))\n",
    "\n",
    "# Original (unscaled) data\n",
    "data = { 'Train': X_train.reshape(-1), 'Val': X_val.reshape(-1), 'Test': X_test.reshape(-1) }\n",
    "plot_boxplot(axs[0], data, 'Original Datasets')\n",
    "\n",
    "# Scaled data\n",
    "data_scaled = { 'Train': X_train_scaled.reshape(-1), 'Val': X_val_scaled.reshape(-1), 'Test': X_test_scaled.reshape(-1) }\n",
    "plot_boxplot(axs[1], data_scaled, 'Scaled Datasets', color='tab:red')\n",
    "\n",
    "plt.show()"
   ]
  },
  {
   "cell_type": "markdown",
   "metadata": {},
   "source": [
    "As you can see, it’s (pretty much as expected) not really necessary. But at least now you have some code handy if you want to try it out yourself."
   ]
  },
  {
   "cell_type": "markdown",
   "metadata": {},
   "source": [
    "## Time to Run Some Models\n",
    "\n",
    "Now for the fun part: forecasting! But before we jump in, let’s set up all the models we’ll need. I’m a big fan of Object-Oriented Programming, so we’ll start by creating some classes to keep things organized.\n",
    "\n",
    "### Our Base Classes\n",
    "\n",
    "Since some models require a PyTorch dataset, we’ll create a simple one using our X and y data."
   ]
  },
  {
   "cell_type": "code",
   "execution_count": 86,
   "metadata": {},
   "outputs": [],
   "source": [
    "class TimeSeriesDataset(Dataset):\n",
    "    \n",
    "    def __init__(self, X: np.ndarray, y: np.ndarray):\n",
    "        self.X = torch.tensor(X, dtype=torch.float32)\n",
    "        self.y = torch.tensor(y, dtype=torch.float32).unsqueeze(1)\n",
    "\n",
    "    def __len__(self):\n",
    "        return len(self.y)\n",
    "\n",
    "    def __getitem__(self, idx: int):\n",
    "        return self.X[idx], self.y[idx]"
   ]
  },
  {
   "cell_type": "markdown",
   "metadata": {},
   "source": [
    "Now let’s look at our base class. You can think of it like a blueprint for all the models we’ll use. It helps keep things simple and organized. Basically, the class just needs to handle three things: predicting from input, training if needed, and evaluating how well it did."
   ]
  },
  {
   "cell_type": "markdown",
   "metadata": {},
   "source": [
    "For evaluation, we’ll keep it simple with MAE, MSE, and RMSE. But since we’re dealing with stock forecasting, I also added a little custom metric: it checks if the predicted and actual returns have the same sign. If yes, it counts as 1, if not, 0. Then we average this over the test set. It’s a neat way to measure if the model got the direction right, which, in stock trading, is often as important as the exact price."
   ]
  },
  {
   "cell_type": "code",
   "execution_count": 87,
   "metadata": {},
   "outputs": [],
   "source": [
    "class Model:\n",
    "    \n",
    "    def __init__(self, name: str):\n",
    "        self.name = name\n",
    "        self.abbr = ''.join([c for c in name if c.isupper()]) if len(name) > 10 else name\n",
    "        self.model = None  # Placeholder for the actual model instance\n",
    "        \n",
    "    def predict(self, X, as_numpy=True):\n",
    "        # This method should be implemented by subclasses\n",
    "        raise NotImplementedError(\"Subclasses should implement this method.\")\n",
    "    \n",
    "    def train(self, X_train, y_train, X_val, y_val):\n",
    "        # Optional method to train the model (if applicable). Default implementation does nothing\n",
    "        pass\n",
    "    \n",
    "    def evaluate(self, X_test, y_test):\n",
    "        y_pred = self.predict(X_test)\n",
    "        return self.compute_metrics(y_test, y_pred)\n",
    "        \n",
    "    def compute_metrics(self, y_true, y_pred):\n",
    "        mae = mean_absolute_error(y_true, y_pred)\n",
    "        mse = mean_squared_error(y_true, y_pred)\n",
    "        rmse = np.sqrt(mse)\n",
    "        \n",
    "        # Custom metric: fraction of times the predicted and true values have the same sign\n",
    "        correct_direction = np.mean(np.sign(y_true) == np.sign(y_pred))\n",
    "        \n",
    "        return {\n",
    "            \"mae\": mae,\n",
    "            \"mse\": mse,\n",
    "            \"rmse\": rmse,\n",
    "            \"corr_dir\": correct_direction\n",
    "        }"
   ]
  },
  {
   "cell_type": "markdown",
   "metadata": {},
   "source": [
    "Some models use PyTorch, while others don’t. To keep training and evaluation simple for the PyTorch ones, let’s create a dedicated PyTorch model class."
   ]
  },
  {
   "cell_type": "code",
   "execution_count": 88,
   "metadata": {},
   "outputs": [],
   "source": [
    "class PytorchModel(Model):\n",
    "    \n",
    "    def train(self, X_train: np.ndarray, y_train: np.ndarray, X_val: np.ndarray, y_val: np.ndarray, epochs: int = 10, batch_size: int = 32):\n",
    "        # Prepare training dataset and dataloader with shuffling\n",
    "        train_dataset = TimeSeriesDataset(X_train, y_train)\n",
    "        train_loader = DataLoader(train_dataset, batch_size=batch_size, shuffle=True)\n",
    "        \n",
    "        # Prepare validation dataset and dataloader without shuffling\n",
    "        val_dataset = TimeSeriesDataset(X_val, y_val)\n",
    "        val_loader = DataLoader(val_dataset, batch_size=batch_size, shuffle=False)\n",
    "\n",
    "        for epoch in range(epochs):\n",
    "            train_loss, val_loss = 0, 0\n",
    "            \n",
    "            self.model.train()\n",
    "            \n",
    "            # Loop over training batches\n",
    "            for inputs, targets in train_loader:\n",
    "                self.optimizer.zero_grad() \n",
    "                \n",
    "                outputs = self.predict(inputs, as_numpy=False)\n",
    "                loss = self.criterion(outputs, targets)\n",
    "                loss.backward()\n",
    "                self.optimizer.step()\n",
    "                \n",
    "                # Accumulate training loss for reporting\n",
    "                train_loss += loss.item()\n",
    "                \n",
    "            self.model.eval()\n",
    "            with torch.no_grad():\n",
    "                # Loop over validation batches\n",
    "                for inputs, targets in val_loader:\n",
    "                    outputs = self.predict(inputs, as_numpy=False)\n",
    "                    loss = self.criterion(outputs, targets)\n",
    "                    val_loss += loss.item()\n",
    "                \n",
    "            print(f\"Epoch {epoch+1}/{epochs}, Train Loss: {train_loss/len(train_loader)}, Val Loss: {val_loss/len(val_loader)}\")\n",
    "            \n",
    "    def evaluate(self, X_test: np.ndarray, y_test: np.ndarray):\n",
    "        # Prepare test dataset and dataloader without shuffling\n",
    "        test_dataset = TimeSeriesDataset(X_test, y_test)\n",
    "        test_loader = DataLoader(test_dataset, batch_size=32, shuffle=False)\n",
    "\n",
    "        self.model.eval()\n",
    "        y_true, y_pred = [], []\n",
    "        \n",
    "        with torch.no_grad():\n",
    "            # Loop over test batches\n",
    "            for inputs, targets in test_loader:\n",
    "                outputs = self.predict(inputs, as_numpy=False)\n",
    "                \n",
    "                y_true.append(targets.numpy())\n",
    "                y_pred.append(outputs.numpy())\n",
    "        \n",
    "        y_true = np.concatenate(y_true)\n",
    "        y_pred = np.concatenate(y_pred)\n",
    "        return self.compute_metrics(y_true, y_pred)\n"
   ]
  },
  {
   "cell_type": "markdown",
   "metadata": {},
   "source": [
    "### What Models Am I Using?\n",
    "\n",
    "We’ll be trying out 6 models, ranging from the very simple to the more advanced. These are the kinds you’ll often see in online articles: a naive baseline, linear regression, random forest, an MLP, an LSTM, and a transformer-based model. I won’t dive into the inner workings of each one here (there are tons of great explanations out there, or just ask ChatGPT), but we’ll see how they perform on our task."
   ]
  },
  {
   "cell_type": "markdown",
   "metadata": {},
   "source": [
    "Let’s start with a naive model. It simply assumes that the best prediction is no change at all, that the price will stay the same. Sure, it sounds trivial, but it’s actually a really useful baseline. If more complex models don’t outperform this one, it’s a good sign that something might be off in how we’re approaching the problem."
   ]
  },
  {
   "cell_type": "code",
   "execution_count": 89,
   "metadata": {},
   "outputs": [],
   "source": [
    "class NaiveModel(Model):\n",
    "    \n",
    "    def __init__(self):\n",
    "        super().__init__(\"Naive\")\n",
    "        \n",
    "    def predict(self, X: np.ndarray, as_numpy: bool = True):\n",
    "        return np.zeros(X.shape[0])"
   ]
  },
  {
   "cell_type": "markdown",
   "metadata": {},
   "source": [
    "Next up are two classics: a simple linear regression and a random forest. Nothing fancy here, we’ll just use the implementations from scikit-learn."
   ]
  },
  {
   "cell_type": "code",
   "execution_count": 90,
   "metadata": {},
   "outputs": [],
   "source": [
    "class LinearRegressionModel(Model):\n",
    "    \n",
    "    def __init__(self):\n",
    "        super().__init__(\"Linear Regression\")\n",
    "        self.model = LinearRegression()\n",
    "    \n",
    "    def train(self, X_train: np.ndarray, y_train: np.ndarray, X_val: np.ndarray = None, y_val: np.ndarray = None):\n",
    "        self.model.fit(X_train, y_train)\n",
    "        \n",
    "    def predict(self, X: np.ndarray, as_numpy: bool = True):\n",
    "        return self.model.predict(X)"
   ]
  },
  {
   "cell_type": "code",
   "execution_count": 91,
   "metadata": {},
   "outputs": [],
   "source": [
    "class RandomForestModel(Model):\n",
    "    \n",
    "    def __init__(self):\n",
    "        super().__init__(\"Random Forest\")\n",
    "        self.model = RandomForestRegressor(n_estimators=100, random_state=42)\n",
    "    \n",
    "    def train(self, X_train: np.ndarray, y_train: np.ndarray, X_val: np.ndarray = None, y_val: np.ndarray = None):\n",
    "        self.model.fit(X_train, y_train)\n",
    "    \n",
    "    def predict(self, X: np.ndarray, as_numpy: bool = True):\n",
    "        return self.model.predict(X)"
   ]
  },
  {
   "cell_type": "markdown",
   "metadata": {},
   "source": [
    "Now let’s move on to PyTorch for the more “advanced” models. First up: a simple neural network using the well-known Multilayer Perceptron (MLP). We’ll also add a bit of dropout to help with regularization."
   ]
  },
  {
   "cell_type": "code",
   "execution_count": 92,
   "metadata": {},
   "outputs": [],
   "source": [
    "class MLPModel(PytorchModel):\n",
    "    \n",
    "    def __init__(self, input_size: int, hidden_size: int = 64, output_size: int = 1, dropout: float = 0.2):\n",
    "        super().__init__(\"MLP\")\n",
    "        \n",
    "        self.model = nn.Sequential(\n",
    "            nn.Linear(input_size, hidden_size),\n",
    "            nn.ReLU(),\n",
    "            nn.Dropout(dropout),\n",
    "            nn.Linear(hidden_size, output_size)\n",
    "        )\n",
    "        self.criterion = nn.MSELoss()\n",
    "        self.optimizer = optim.Adam(self.model.parameters(), lr=0.001)\n",
    "        \n",
    "    def predict(self, X: np.ndarray, as_numpy: bool = True):\n",
    "        X = torch.tensor(X, dtype=torch.float32)\n",
    "        outputs = self.model(X)\n",
    "        return outputs.detach().squeeze().numpy() if as_numpy else outputs"
   ]
  },
  {
   "cell_type": "markdown",
   "metadata": {},
   "source": [
    "Next up is probably the most popular model you'll come across online: the LSTM. I could’ve gone with a GRU too, they’re pretty similar, but LSTM tends to be the go-to for time series, so we’ll stick with that."
   ]
  },
  {
   "cell_type": "code",
   "execution_count": 93,
   "metadata": {},
   "outputs": [],
   "source": [
    "class LSTMModel(PytorchModel):\n",
    "    \n",
    "    def __init__(self, hidden_size: int, feature_size: int = 1, output_size: int = 1, num_layers: int = 1, dropout: float = 0.2):\n",
    "        super().__init__(\"LSTM\")\n",
    "        \n",
    "        self.model = nn.LSTM(feature_size, hidden_size, num_layers=num_layers, dropout=dropout, batch_first=True)\n",
    "        self.fc = nn.Linear(hidden_size, output_size)\n",
    "        self.criterion = nn.MSELoss()\n",
    "        self.optimizer = optim.Adam(self.model.parameters(), lr=0.001)\n",
    "        \n",
    "    def predict(self, X: np.ndarray, as_numpy: bool = True):\n",
    "        X = torch.tensor(X, dtype=torch.float32)\n",
    "        \n",
    "        # Ensure input is 3D (batch_size, seq_length, feature_size)\n",
    "        if len(X.shape) == 2:\n",
    "            X = X.unsqueeze(-1)\n",
    "        outputs, _ = self.model(X)\n",
    "        outputs = self.fc(outputs[:, -1])\n",
    "        return outputs.detach().squeeze().numpy() if as_numpy else outputs"
   ]
  },
  {
   "cell_type": "markdown",
   "metadata": {},
   "source": [
    "And finally, we’ll wrap things up with the model that’s been getting all the attention in recent years: Transformers. We’ll keep it simple here and use a basic encoder-decoder setup."
   ]
  },
  {
   "cell_type": "code",
   "execution_count": 94,
   "metadata": {},
   "outputs": [],
   "source": [
    "class TimeSeriesTransformer(nn.Module):\n",
    "    \n",
    "    def __init__(self, feature_size: int, hidden_size: int, num_heads: int, num_layers: int, dropout: float = 0.2):\n",
    "        super().__init__()\n",
    "\n",
    "        # Project input features to the hidden dimension expected by the Transformer\n",
    "        self.input_proj = nn.Linear(feature_size, hidden_size)\n",
    "        \n",
    "        # Define a single encoder layer for the Transformer\n",
    "        encoder_layer = nn.TransformerEncoderLayer(\n",
    "            d_model=hidden_size,\n",
    "            nhead=num_heads,\n",
    "            dropout=dropout,\n",
    "            batch_first=True\n",
    "        )\n",
    "\n",
    "        # Stack multiple encoder layers\n",
    "        self.transformer_encoder = nn.TransformerEncoder(\n",
    "            encoder_layer, \n",
    "            num_layers=num_layers\n",
    "        )\n",
    "        \n",
    "        # Final linear layer to output a single value (the predicted return)\n",
    "        self.output_layer = nn.Linear(hidden_size, 1)\n",
    "\n",
    "    def forward(self, x: torch.Tensor):\n",
    "        x = self.input_proj(x)\n",
    "        x = self.transformer_encoder(x)\n",
    "        return self.output_layer(x[:, -1])\n",
    "\n",
    "\n",
    "# Wrapper class for the Transformer model, integrated into our model framework\n",
    "class TransformerModel(PytorchModel):\n",
    "    \n",
    "    def __init__(self, hidden_size=64, feature_size=1, output_size=1, num_layers=2, num_heads=4, dropout=0.1):\n",
    "        super().__init__(\"Transformer\")\n",
    "\n",
    "        self.model = TimeSeriesTransformer(\n",
    "            feature_size=feature_size,\n",
    "            hidden_size=hidden_size,\n",
    "            num_heads=num_heads,\n",
    "            num_layers=num_layers,\n",
    "            dropout=dropout\n",
    "        )\n",
    "\n",
    "        self.fc = nn.Linear(hidden_size, output_size)\n",
    "\n",
    "        self.criterion = nn.MSELoss()\n",
    "        self.optimizer = optim.Adam(self.model.parameters(), lr=0.001)\n",
    "\n",
    "    def predict(self, X: np.ndarray, as_numpy: bool = True):\n",
    "        X = torch.tensor(X, dtype=torch.float32)\n",
    "\n",
    "        # Ensure input is 3D (batch_size, seq_length, feature_size)\n",
    "        if len(X.shape) == 2:\n",
    "            X = X.unsqueeze(-1)\n",
    "        outputs = self.model(X)\n",
    "        return outputs.detach().squeeze().numpy() if as_numpy else outputs\n"
   ]
  },
  {
   "cell_type": "markdown",
   "metadata": {},
   "source": [
    "Alright, we’ve got all our models set up. I didn’t go deep into the details of each one, that’s not really the focus here. But, as I said, if you’re curious, there are tons of great resources out there."
   ]
  },
  {
   "cell_type": "markdown",
   "metadata": {},
   "source": [
    "## Evaluation\n",
    "\n",
    "Now it’s time to see how everything performs. Like I mentioned earlier, I’m keeping the evaluation process really simple, just enough to highlight the basic metrics that are often missing from similar articles. So let’s gather all our models, train the ones that need it, and run the evaluation."
   ]
  },
  {
   "cell_type": "code",
   "execution_count": 95,
   "metadata": {},
   "outputs": [
    {
     "name": "stderr",
     "output_type": "stream",
     "text": [
      "/home/yoest/.local/lib/python3.11/site-packages/torch/nn/modules/rnn.py:88: UserWarning: dropout option adds dropout after all but last recurrent layer, so non-zero dropout expects num_layers greater than 1, but got dropout=0.2 and num_layers=1\n",
      "  warnings.warn(\"dropout option adds dropout after all but last \"\n"
     ]
    },
    {
     "name": "stdout",
     "output_type": "stream",
     "text": [
      "==== Seed: 42 ====\n"
     ]
    },
    {
     "name": "stderr",
     "output_type": "stream",
     "text": [
      " 50%|█████     | 3/6 [01:29<01:29, 29.96s/it]/tmp/ipykernel_183653/821915693.py:12: UserWarning: To copy construct from a tensor, it is recommended to use sourceTensor.clone().detach() or sourceTensor.clone().detach().requires_grad_(True), rather than torch.tensor(sourceTensor).\n",
      "  X = torch.tensor(X, dtype=torch.float32)\n"
     ]
    },
    {
     "name": "stdout",
     "output_type": "stream",
     "text": [
      "Epoch 1/10, Train Loss: 0.011113102709547289, Val Loss: 0.007199045331799425\n",
      "Epoch 2/10, Train Loss: 0.010843367743733767, Val Loss: 0.007220787947881035\n",
      "Epoch 3/10, Train Loss: 0.010841732200335812, Val Loss: 0.007156987211783416\n",
      "Epoch 4/10, Train Loss: 0.010824036451585188, Val Loss: 0.007148561139183584\n",
      "Epoch 5/10, Train Loss: 0.010833399353322346, Val Loss: 0.00706316253344994\n",
      "Epoch 6/10, Train Loss: 0.010820148219480305, Val Loss: 0.0070356698430259716\n",
      "Epoch 7/10, Train Loss: 0.010821335494040032, Val Loss: 0.007117366106831469\n",
      "Epoch 8/10, Train Loss: 0.010796354353629254, Val Loss: 0.0070363209451898\n",
      "Epoch 9/10, Train Loss: 0.010791428266344844, Val Loss: 0.007231076352763921\n"
     ]
    },
    {
     "name": "stderr",
     "output_type": "stream",
     "text": [
      " 67%|██████▋   | 4/6 [01:42<00:48, 24.27s/it]"
     ]
    },
    {
     "name": "stdout",
     "output_type": "stream",
     "text": [
      "Epoch 10/10, Train Loss: 0.010779140383080655, Val Loss: 0.007467433522106148\n"
     ]
    },
    {
     "name": "stderr",
     "output_type": "stream",
     "text": [
      "/tmp/ipykernel_183653/2839095789.py:16: UserWarning: To copy construct from a tensor, it is recommended to use sourceTensor.clone().detach() or sourceTensor.clone().detach().requires_grad_(True), rather than torch.tensor(sourceTensor).\n",
      "  X = torch.tensor(X, dtype=torch.float32)\n"
     ]
    },
    {
     "name": "stdout",
     "output_type": "stream",
     "text": [
      "Epoch 1/10, Train Loss: 0.016686290803340238, Val Loss: 0.0073205698470701465\n",
      "Epoch 2/10, Train Loss: 0.011226870363729225, Val Loss: 0.00703250148362713\n",
      "Epoch 3/10, Train Loss: 0.01075316920649965, Val Loss: 0.007098673295695334\n",
      "Epoch 4/10, Train Loss: 0.01075781104217812, Val Loss: 0.007253490420407615\n",
      "Epoch 5/10, Train Loss: 0.010710337398749952, Val Loss: 0.006952232797630131\n",
      "Epoch 6/10, Train Loss: 0.01067851439395265, Val Loss: 0.006999654615356121\n",
      "Epoch 7/10, Train Loss: 0.01069360272707166, Val Loss: 0.007329026651859749\n",
      "Epoch 8/10, Train Loss: 0.01064820290744506, Val Loss: 0.007443978077208158\n",
      "Epoch 9/10, Train Loss: 0.010643801578899494, Val Loss: 0.00707451490306994\n"
     ]
    },
    {
     "name": "stderr",
     "output_type": "stream",
     "text": [
      " 83%|████████▎ | 5/6 [01:45<00:17, 17.58s/it]"
     ]
    },
    {
     "name": "stdout",
     "output_type": "stream",
     "text": [
      "Epoch 10/10, Train Loss: 0.010605542705948087, Val Loss: 0.007060029091371689\n"
     ]
    },
    {
     "name": "stderr",
     "output_type": "stream",
     "text": [
      "/tmp/ipykernel_183653/4290957806.py:52: UserWarning: To copy construct from a tensor, it is recommended to use sourceTensor.clone().detach() or sourceTensor.clone().detach().requires_grad_(True), rather than torch.tensor(sourceTensor).\n",
      "  X = torch.tensor(X, dtype=torch.float32)\n"
     ]
    },
    {
     "name": "stdout",
     "output_type": "stream",
     "text": [
      "Epoch 1/10, Train Loss: 0.041172828981527, Val Loss: 0.0070747555990237744\n",
      "Epoch 2/10, Train Loss: 0.011581183052495928, Val Loss: 0.007394072281022091\n",
      "Epoch 3/10, Train Loss: 0.011242475734419517, Val Loss: 0.007074753649067134\n",
      "Epoch 4/10, Train Loss: 0.011228272045735975, Val Loss: 0.006915793701773509\n",
      "Epoch 5/10, Train Loss: 0.0111408385983039, Val Loss: 0.006895798291952815\n",
      "Epoch 6/10, Train Loss: 0.01112144446894023, Val Loss: 0.007032347901258618\n",
      "Epoch 7/10, Train Loss: 0.011058771778275637, Val Loss: 0.0069862573902355505\n",
      "Epoch 8/10, Train Loss: 0.011159577927350797, Val Loss: 0.007161173905478791\n",
      "Epoch 9/10, Train Loss: 0.01105278397255854, Val Loss: 0.007605885145312641\n",
      "Epoch 10/10, Train Loss: 0.010987180491242357, Val Loss: 0.00765506069874391\n"
     ]
    },
    {
     "name": "stderr",
     "output_type": "stream",
     "text": [
      "100%|██████████| 6/6 [06:54<00:00, 69.09s/it] \n",
      "/home/yoest/.local/lib/python3.11/site-packages/torch/nn/modules/rnn.py:88: UserWarning: dropout option adds dropout after all but last recurrent layer, so non-zero dropout expects num_layers greater than 1, but got dropout=0.2 and num_layers=1\n",
      "  warnings.warn(\"dropout option adds dropout after all but last \"\n"
     ]
    },
    {
     "name": "stdout",
     "output_type": "stream",
     "text": [
      "==== Seed: 43 ====\n"
     ]
    },
    {
     "name": "stderr",
     "output_type": "stream",
     "text": [
      " 50%|█████     | 3/6 [01:11<01:11, 23.82s/it]/tmp/ipykernel_183653/821915693.py:12: UserWarning: To copy construct from a tensor, it is recommended to use sourceTensor.clone().detach() or sourceTensor.clone().detach().requires_grad_(True), rather than torch.tensor(sourceTensor).\n",
      "  X = torch.tensor(X, dtype=torch.float32)\n"
     ]
    },
    {
     "name": "stdout",
     "output_type": "stream",
     "text": [
      "Epoch 1/10, Train Loss: 0.010916829180299632, Val Loss: 0.006980410280812066\n",
      "Epoch 2/10, Train Loss: 0.01084979229159905, Val Loss: 0.006932507784222252\n",
      "Epoch 3/10, Train Loss: 0.010833749402868183, Val Loss: 0.007669043575879187\n",
      "Epoch 4/10, Train Loss: 0.01081115187498162, Val Loss: 0.007131411200680305\n",
      "Epoch 5/10, Train Loss: 0.010816476517356932, Val Loss: 0.007398913158976938\n",
      "Epoch 6/10, Train Loss: 0.010816380270203022, Val Loss: 0.00706004816602217\n",
      "Epoch 7/10, Train Loss: 0.010801499059134339, Val Loss: 0.0071948183016502295\n",
      "Epoch 8/10, Train Loss: 0.010777098073850612, Val Loss: 0.007294380573148374\n",
      "Epoch 9/10, Train Loss: 0.010779016342869884, Val Loss: 0.007104261983477045\n"
     ]
    },
    {
     "name": "stderr",
     "output_type": "stream",
     "text": [
      " 67%|██████▋   | 4/6 [01:23<00:40, 20.10s/it]"
     ]
    },
    {
     "name": "stdout",
     "output_type": "stream",
     "text": [
      "Epoch 10/10, Train Loss: 0.010779860627686454, Val Loss: 0.007316672225715593\n"
     ]
    },
    {
     "name": "stderr",
     "output_type": "stream",
     "text": [
      "/tmp/ipykernel_183653/2839095789.py:16: UserWarning: To copy construct from a tensor, it is recommended to use sourceTensor.clone().detach() or sourceTensor.clone().detach().requires_grad_(True), rather than torch.tensor(sourceTensor).\n",
      "  X = torch.tensor(X, dtype=torch.float32)\n"
     ]
    },
    {
     "name": "stdout",
     "output_type": "stream",
     "text": [
      "Epoch 1/10, Train Loss: 0.01794741292660301, Val Loss: 0.007951738256087993\n",
      "Epoch 2/10, Train Loss: 0.011411086444088534, Val Loss: 0.007578552252380177\n",
      "Epoch 3/10, Train Loss: 0.010866477018901827, Val Loss: 0.0076875399754499085\n",
      "Epoch 4/10, Train Loss: 0.010712636450330751, Val Loss: 0.007454915813286789\n",
      "Epoch 5/10, Train Loss: 0.010738488975786479, Val Loss: 0.0072807654127245765\n",
      "Epoch 6/10, Train Loss: 0.01066431743407471, Val Loss: 0.007230012858053669\n",
      "Epoch 7/10, Train Loss: 0.010659207656627168, Val Loss: 0.007018741920182947\n",
      "Epoch 8/10, Train Loss: 0.010676156076904688, Val Loss: 0.00790975724667078\n",
      "Epoch 9/10, Train Loss: 0.0106226361595799, Val Loss: 0.007173453290306497\n"
     ]
    },
    {
     "name": "stderr",
     "output_type": "stream",
     "text": [
      " 83%|████████▎ | 5/6 [01:26<00:14, 14.72s/it]"
     ]
    },
    {
     "name": "stdout",
     "output_type": "stream",
     "text": [
      "Epoch 10/10, Train Loss: 0.010614977335255292, Val Loss: 0.0071609866252401845\n"
     ]
    },
    {
     "name": "stderr",
     "output_type": "stream",
     "text": [
      "/tmp/ipykernel_183653/4290957806.py:52: UserWarning: To copy construct from a tensor, it is recommended to use sourceTensor.clone().detach() or sourceTensor.clone().detach().requires_grad_(True), rather than torch.tensor(sourceTensor).\n",
      "  X = torch.tensor(X, dtype=torch.float32)\n"
     ]
    },
    {
     "name": "stdout",
     "output_type": "stream",
     "text": [
      "Epoch 1/10, Train Loss: 0.06635856254378686, Val Loss: 0.008637469980749301\n",
      "Epoch 2/10, Train Loss: 0.012123937556218054, Val Loss: 0.00760912518016994\n",
      "Epoch 3/10, Train Loss: 0.011483361328498939, Val Loss: 0.008144175677443855\n",
      "Epoch 4/10, Train Loss: 0.011335452146375099, Val Loss: 0.007958789498661644\n",
      "Epoch 5/10, Train Loss: 0.011265952094155993, Val Loss: 0.007417874727980234\n",
      "Epoch 6/10, Train Loss: 0.01123242181524433, Val Loss: 0.007243789741187357\n",
      "Epoch 7/10, Train Loss: 0.011207041926556142, Val Loss: 0.008031808698433451\n",
      "Epoch 8/10, Train Loss: 0.01103359485120588, Val Loss: 0.006899534311378375\n",
      "Epoch 9/10, Train Loss: 0.011085655018561394, Val Loss: 0.006941362768702675\n",
      "Epoch 10/10, Train Loss: 0.011043211851722082, Val Loss: 0.007410546150640585\n"
     ]
    },
    {
     "name": "stderr",
     "output_type": "stream",
     "text": [
      "100%|██████████| 6/6 [06:32<00:00, 65.47s/it] \n",
      "/home/yoest/.local/lib/python3.11/site-packages/torch/nn/modules/rnn.py:88: UserWarning: dropout option adds dropout after all but last recurrent layer, so non-zero dropout expects num_layers greater than 1, but got dropout=0.2 and num_layers=1\n",
      "  warnings.warn(\"dropout option adds dropout after all but last \"\n"
     ]
    },
    {
     "name": "stdout",
     "output_type": "stream",
     "text": [
      "==== Seed: 44 ====\n"
     ]
    },
    {
     "name": "stderr",
     "output_type": "stream",
     "text": [
      " 50%|█████     | 3/6 [01:12<01:12, 24.15s/it]/tmp/ipykernel_183653/821915693.py:12: UserWarning: To copy construct from a tensor, it is recommended to use sourceTensor.clone().detach() or sourceTensor.clone().detach().requires_grad_(True), rather than torch.tensor(sourceTensor).\n",
      "  X = torch.tensor(X, dtype=torch.float32)\n"
     ]
    },
    {
     "name": "stdout",
     "output_type": "stream",
     "text": [
      "Epoch 1/10, Train Loss: 0.010880394355784095, Val Loss: 0.007103768103115726\n",
      "Epoch 2/10, Train Loss: 0.010818394214997218, Val Loss: 0.006892534215876367\n",
      "Epoch 3/10, Train Loss: 0.01082519033791598, Val Loss: 0.007117781715351157\n",
      "Epoch 4/10, Train Loss: 0.010805857144422023, Val Loss: 0.007380703282251488\n",
      "Epoch 5/10, Train Loss: 0.010810881624992535, Val Loss: 0.007660212337214034\n",
      "Epoch 6/10, Train Loss: 0.010814088834072085, Val Loss: 0.0070192128943745045\n",
      "Epoch 7/10, Train Loss: 0.010799287508770421, Val Loss: 0.007338218923541718\n",
      "Epoch 8/10, Train Loss: 0.010789239585298944, Val Loss: 0.007199517622939311\n",
      "Epoch 9/10, Train Loss: 0.010796726322607012, Val Loss: 0.007162663276540115\n"
     ]
    },
    {
     "name": "stderr",
     "output_type": "stream",
     "text": [
      " 67%|██████▋   | 4/6 [01:24<00:40, 20.30s/it]"
     ]
    },
    {
     "name": "stdout",
     "output_type": "stream",
     "text": [
      "Epoch 10/10, Train Loss: 0.010775465608222057, Val Loss: 0.007291010163316969\n"
     ]
    },
    {
     "name": "stderr",
     "output_type": "stream",
     "text": [
      "/tmp/ipykernel_183653/2839095789.py:16: UserWarning: To copy construct from a tensor, it is recommended to use sourceTensor.clone().detach() or sourceTensor.clone().detach().requires_grad_(True), rather than torch.tensor(sourceTensor).\n",
      "  X = torch.tensor(X, dtype=torch.float32)\n"
     ]
    },
    {
     "name": "stdout",
     "output_type": "stream",
     "text": [
      "Epoch 1/10, Train Loss: 0.018577899821606035, Val Loss: 0.007920657671638765\n",
      "Epoch 2/10, Train Loss: 0.011389745416346233, Val Loss: 0.0070119729469297455\n",
      "Epoch 3/10, Train Loss: 0.01087896563804935, Val Loss: 0.007287977526721079\n",
      "Epoch 4/10, Train Loss: 0.010725041848884242, Val Loss: 0.007195456465706229\n",
      "Epoch 5/10, Train Loss: 0.010708091206332619, Val Loss: 0.007348554677446373\n",
      "Epoch 6/10, Train Loss: 0.010704370349570102, Val Loss: 0.007099048962118104\n",
      "Epoch 7/10, Train Loss: 0.010679183824843652, Val Loss: 0.007718301739078015\n",
      "Epoch 8/10, Train Loss: 0.010659774097714673, Val Loss: 0.0072750421692035164\n",
      "Epoch 9/10, Train Loss: 0.010652465349994599, Val Loss: 0.007041470109834335\n"
     ]
    },
    {
     "name": "stderr",
     "output_type": "stream",
     "text": [
      " 83%|████████▎ | 5/6 [01:27<00:14, 14.85s/it]"
     ]
    },
    {
     "name": "stdout",
     "output_type": "stream",
     "text": [
      "Epoch 10/10, Train Loss: 0.010654803809420382, Val Loss: 0.007395877879753243\n"
     ]
    },
    {
     "name": "stderr",
     "output_type": "stream",
     "text": [
      "/tmp/ipykernel_183653/4290957806.py:52: UserWarning: To copy construct from a tensor, it is recommended to use sourceTensor.clone().detach() or sourceTensor.clone().detach().requires_grad_(True), rather than torch.tensor(sourceTensor).\n",
      "  X = torch.tensor(X, dtype=torch.float32)\n"
     ]
    },
    {
     "name": "stdout",
     "output_type": "stream",
     "text": [
      "Epoch 1/10, Train Loss: 0.02399852585638999, Val Loss: 0.007178662953083404\n",
      "Epoch 2/10, Train Loss: 0.011495659898689671, Val Loss: 0.006878210086142644\n",
      "Epoch 3/10, Train Loss: 0.011239025323978953, Val Loss: 0.007062167409458198\n",
      "Epoch 4/10, Train Loss: 0.011327537086263701, Val Loss: 0.006976978873717598\n",
      "Epoch 5/10, Train Loss: 0.011261049955705734, Val Loss: 0.0076278761407593265\n",
      "Epoch 6/10, Train Loss: 0.011072473562750462, Val Loss: 0.007131691469112411\n",
      "Epoch 7/10, Train Loss: 0.011044811126083841, Val Loss: 0.006929268508974929\n",
      "Epoch 8/10, Train Loss: 0.01107276959181134, Val Loss: 0.007063984540582169\n",
      "Epoch 9/10, Train Loss: 0.010986775456222932, Val Loss: 0.007965707955008838\n",
      "Epoch 10/10, Train Loss: 0.011058272223768605, Val Loss: 0.007276518776052399\n"
     ]
    },
    {
     "name": "stderr",
     "output_type": "stream",
     "text": [
      "100%|██████████| 6/6 [06:35<00:00, 65.84s/it] \n"
     ]
    }
   ],
   "source": [
    "# We use multiple random seeds to ensure robustness of results\n",
    "seeds = [42, 43, 44]\n",
    "results_by_seed = {}\n",
    "\n",
    "for seed in seeds:\n",
    "    print(f\"==== Seed: {seed} ====\")\n",
    "    np.random.seed(seed)\n",
    "    torch.manual_seed(seed)\n",
    "\n",
    "    models: List[Model] = [\n",
    "        NaiveModel(), \n",
    "        LinearRegressionModel(), \n",
    "        RandomForestModel(), \n",
    "        LSTMModel(hidden_size=50), \n",
    "        MLPModel(input_size=X_train_scaled.shape[1], hidden_size=64),\n",
    "        TransformerModel()\n",
    "    ]\n",
    "\n",
    "    # Gather all model results in a dictionary\n",
    "    results = {}\n",
    "    for model in tqdm(models):\n",
    "        model.train(X_train_scaled, y_train, X_val_scaled, y_val)\n",
    "        metrics = model.evaluate(X_test_scaled, y_test)\n",
    "        \n",
    "        results[model.abbr] = metrics\n",
    "        \n",
    "    results_by_seed[seed] = results"
   ]
  },
  {
   "cell_type": "markdown",
   "metadata": {},
   "source": [
    "Now that we’ve got all the results stored in the ```results_by_seed``` dictionary, it’s time to visualize them. Let’s use a simple bar chart to make the comparison easier to read."
   ]
  },
  {
   "cell_type": "code",
   "execution_count": 98,
   "metadata": {},
   "outputs": [
    {
     "data": {
      "image/png": "[encoded data removed]",
      "text/plain": [
       "<Figure size 800x600 with 4 Axes>"
      ]
     },
     "metadata": {},
     "output_type": "display_data"
    }
   ],
   "source": [
    "def compute_mean_and_sem(results_by_seed, metric):\n",
    "    # Create a dict: { model_name: [metric_values_across_seeds] }\n",
    "    aggregated = defaultdict(list)\n",
    "    \n",
    "    for seed_results in results_by_seed.values():\n",
    "        for model_name, metrics in seed_results.items():\n",
    "            aggregated[model_name].append(metrics[metric])\n",
    "    \n",
    "    # Compute mean and SEM\n",
    "    means = {k: np.mean(v) for k, v in aggregated.items()}\n",
    "    sems = {k: np.std(v, ddof=1) / np.sqrt(len(v)) for k, v in aggregated.items()}\n",
    "    \n",
    "    return means, sems\n",
    "\n",
    "def plot_bar(ax, means: dict, sems: dict, title: str, color: str = 'tab:blue'):\n",
    "    labels = list(means.keys())\n",
    "    values = list(means.values())\n",
    "    errors = [sems[k] for k in labels]\n",
    "\n",
    "    bar = ax.bar(labels, values, yerr=errors, capsize=5, color=color)\n",
    "\n",
    "    # Add the value labels on top of each bar\n",
    "    for rect, mean, sem in zip(bar, values, sems.values()):\n",
    "        height = mean * 1.02 + sem\n",
    "        ax.text(rect.get_x() + rect.get_width() / 2, height, f'{mean:.3f}', ha='center', va='bottom')\n",
    "\n",
    "    ax.set_title(title)\n",
    "    ax.set_ylim(0, max(values) * 1.2)\n",
    "\n",
    "fig, ax = plt.subplots(2, 2, figsize=(8, 6))\n",
    "\n",
    "# Metrics to plot\n",
    "metrics_info = [\n",
    "    ('mae', 'MAE' + r' $\\downarrow$', 'tab:blue'),\n",
    "    ('mse', 'MSE' + r' $\\downarrow$', 'tab:red'),\n",
    "    ('rmse', 'RMSE' + r' $\\downarrow$', 'tab:green'),\n",
    "    ('corr_dir', 'Correct Direction' + r' $\\uparrow$', 'tab:purple'),\n",
    "]\n",
    "\n",
    "# Plot MAE, MSE, RMSE, and Correct Direction metrics in a 2x2 grid\n",
    "for i, (metric, title, color) in enumerate(metrics_info):\n",
    "    means, sems = compute_mean_and_sem(results_by_seed, metric)\n",
    "    row, col = divmod(i, 2)\n",
    "    plot_bar(ax[row, col], means, sems, title, color=color)\n",
    "    if metric == 'corr_dir':\n",
    "        ax[row, col].set_ylim(0, 1)\n",
    "\n",
    "plt.tight_layout(w_pad=2, h_pad=2)\n",
    "plt.show()"
   ]
  },
  {
   "cell_type": "markdown",
   "metadata": {},
   "source": [
    "Alright, here comes the reality check. I hope you weren’t expecting anything crazy, because the results say otherwise. From the simple naive model all the way to the transformer, the MAE numbers are pretty much the same. No big difference there. The only metric that makes a bit of sense is the “correct direction,” which is zero for the naive model since it doesn’t actually try to predict if the price goes up or down. The other models hover around 50%, which basically means they’re guessing the direction as well as flipping a coin. The other metrics are just as low across the board.\n",
    "\n",
    "So what does this mean? Either the models weren’t trained properly or didn’t have enough data (which seems unlikely here), or, more likely, the closing prices alone just don’t hold enough clues to make accurate predictions. Bit of a bummer, but that’s the reality."
   ]
  },
  {
   "cell_type": "markdown",
   "metadata": {},
   "source": [
    "If you want to take a look at some price predictions over time for a specific stock, I’ve got you covered:"
   ]
  },
  {
   "cell_type": "code",
   "execution_count": 99,
   "metadata": {},
   "outputs": [
    {
     "data": {
      "image/png": "[encoded data removed]",
      "text/plain": [
       "<Figure size 900x600 with 6 Axes>"
      ]
     },
     "metadata": {},
     "output_type": "display_data"
    }
   ],
   "source": [
    "test_dates = sup_df['date'].unique()[-len(y_test):]\n",
    "symbol = \"AAPL\"\n",
    "\n",
    "# Filter the DataFrame for the specific symbol and the last 100 dates\n",
    "symbol_df = sup_df[sup_df['symbol'] == symbol].iloc[-100:]\n",
    "symbol_dates = symbol_df['date'].unique()\n",
    "\n",
    "X_symbol = symbol_df[ret_cols].values\n",
    "X_symbol_scaled = scaler.transform(X_symbol)\n",
    "\n",
    "y_symbol = symbol_df['target'].values\n",
    "prices = symbol_df['price'].values\n",
    "\n",
    "fig, axs = plt.subplots(len(models) // 2, 2, figsize=(9, 6), sharex=True, sharey=True)\n",
    "axs = axs.flatten()  # Flatten the 2D array of axes to 1D for easy iteration\n",
    "\n",
    "# Loop over each model to plot predictions vs true prices\n",
    "for i, model in enumerate(models):\n",
    "    y_pred_symbol = model.predict(X_symbol_scaled)\n",
    "    \n",
    "    price_y_pred = prices * (1 + y_pred_symbol)\n",
    "    prices_y = prices * (1 + y_symbol)\n",
    "    x_axis = pd.to_datetime(symbol_dates)\n",
    "    \n",
    "    axs[i].plot(x_axis, prices_y, label='True Prices' if i == 0 else None, color='tab:blue')\n",
    "    axs[i].plot(x_axis, price_y_pred, label='Predicted Prices' if i == 0 else None, color='tab:red')\n",
    "    \n",
    "    axs[i].set_title(f'{model.name}')\n",
    "    if i % 2 == 0:\n",
    "        axs[i].set_ylabel('Prices')\n",
    "\n",
    "# Add a single legend above all plots, with no frame and larger font size\n",
    "fig.legend(loc='upper center', bbox_to_anchor=(0.5, 1.08), ncol=2, frameon=False, fontsize='large')\n",
    "\n",
    "plt.tight_layout(w_pad=2.0, h_pad=2.0)\n",
    "plt.show()"
   ]
  },
  {
   "cell_type": "markdown",
   "metadata": {},
   "source": [
    "You’ll notice that most of the predictions just lag behind the actual curve, basically following the true prices, but with a 10-day delay. This is something you’ll often see in many articles, except they usually use a 1-day forecast, which can misleadingly make the model look perfect. But in reality, it’s not performing as well as it seems."
   ]
  },
  {
   "cell_type": "markdown",
   "metadata": {},
   "source": [
    "## So... is it all hopeless?\n",
    "\n",
    "Not quite, but let’s be honest: trying to forecast the market using just the closing price might be no better than rolling a dice. You can experiment by adding open, high, low, and volume, but chances are, it won’t drastically change the outcome. And indicators? Sure, they might help a bit, but in the end, they’re just nonlinear combinations of those same variables. I’m not saying they’re useless, just don’t expect miracles.\n",
    "\n",
    "So, am I saying it’s impossible to predict the market? Definitely not. But I am saying that freely available data like this is... well, freely available for a reason. If you really want to move the needle, you probably need access to richer, harder-to-get data. Think sentiment, fundamentals, financial reports, macro stuff. The kind of data that’s not sitting in a CSV file online.\n",
    "\n",
    "That said, even if the predictions don’t blow your mind, this kind of project is still one of the coolest ways to dive into machine learning, data science, and finance all at once. So seriously, go explore, test things, tweak models. It’s a great learning experience.\n",
    "\n",
    "Tiny disclaimer before I wrap up: I’m one of the co-founders of [Zelyos](https://zelyos.com/), an AI-powered stock picker that focuses exactly on this: bringing in the not-so-easy-to-find data to build better forecasts. So of course, I’m biased. But I’m also just sharing the lessons we’ve learned from building and experimenting. And hey, I genuinely hope you don’t fully agree with me. I’d love to hear your take."
   ]
  },
  {
   "cell_type": "markdown",
   "metadata": {},
   "source": [
    "> None of this is financial advice. I’m pretty sure by now it’s clear that it’s not nearly enough to rely on. This is all for learning and exploration, nothing more."
   ]
  },
  {
   "cell_type": "markdown",
   "metadata": {},
   "source": [
    "Thanks so much for reading. I hope you had fun, and I’d really love to hear your thoughts!"
   ]
  }
 ],
 "metadata": {
  "kernelspec": {
   "display_name": "estytechlabsenv",
   "language": "python",
   "name": "python3"
  },
  "language_info": {
   "codemirror_mode": {
    "name": "ipython",
    "version": 3
   },
   "file_extension": ".py",
   "mimetype": "text/x-python",
   "name": "python",
   "nbconvert_exporter": "python",
   "pygments_lexer": "ipython3",
   "version": "3.11.13"
  }
 },
 "nbformat": 4,
 "nbformat_minor": 2
}
